{
  "nbformat": 4,
  "nbformat_minor": 0,
  "metadata": {
    "colab": {
      "name": "ML_Project_GAN.ipynb",
      "provenance": [],
      "collapsed_sections": [],
      "authorship_tag": "ABX9TyP0YAUXoGxHcfd2QKEZxt2j",
      "include_colab_link": true
    },
    "kernelspec": {
      "name": "python3",
      "display_name": "Python 3"
    },
    "language_info": {
      "name": "python"
    },
    "accelerator": "GPU",
    "widgets": {
      "application/vnd.jupyter.widget-state+json": {
        "9889cd41356f4c5da2fac0e36768e638": {
          "model_module": "@jupyter-widgets/controls",
          "model_name": "HBoxModel",
          "state": {
            "_view_name": "HBoxView",
            "_dom_classes": [],
            "_model_name": "HBoxModel",
            "_view_module": "@jupyter-widgets/controls",
            "_model_module_version": "1.5.0",
            "_view_count": null,
            "_view_module_version": "1.5.0",
            "box_style": "",
            "layout": "IPY_MODEL_8d3b6faf2af648aa9998e5456487e022",
            "_model_module": "@jupyter-widgets/controls",
            "children": [
              "IPY_MODEL_afa42f9aadcc4c97b475debe0ef0247d",
              "IPY_MODEL_894c85184ec74c60a6234777dffc8804"
            ]
          }
        },
        "8d3b6faf2af648aa9998e5456487e022": {
          "model_module": "@jupyter-widgets/base",
          "model_name": "LayoutModel",
          "state": {
            "_view_name": "LayoutView",
            "grid_template_rows": null,
            "right": null,
            "justify_content": null,
            "_view_module": "@jupyter-widgets/base",
            "overflow": null,
            "_model_module_version": "1.2.0",
            "_view_count": null,
            "flex_flow": null,
            "width": null,
            "min_width": null,
            "border": null,
            "align_items": null,
            "bottom": null,
            "_model_module": "@jupyter-widgets/base",
            "top": null,
            "grid_column": null,
            "overflow_y": null,
            "overflow_x": null,
            "grid_auto_flow": null,
            "grid_area": null,
            "grid_template_columns": null,
            "flex": null,
            "_model_name": "LayoutModel",
            "justify_items": null,
            "grid_row": null,
            "max_height": null,
            "align_content": null,
            "visibility": null,
            "align_self": null,
            "height": null,
            "min_height": null,
            "padding": null,
            "grid_auto_rows": null,
            "grid_gap": null,
            "max_width": null,
            "order": null,
            "_view_module_version": "1.2.0",
            "grid_template_areas": null,
            "object_position": null,
            "object_fit": null,
            "grid_auto_columns": null,
            "margin": null,
            "display": null,
            "left": null
          }
        },
        "afa42f9aadcc4c97b475debe0ef0247d": {
          "model_module": "@jupyter-widgets/controls",
          "model_name": "FloatProgressModel",
          "state": {
            "_view_name": "ProgressView",
            "style": "IPY_MODEL_aa8a0612b43c4281b7376c5e4f2e03d0",
            "_dom_classes": [],
            "description": "",
            "_model_name": "FloatProgressModel",
            "bar_style": "success",
            "max": 9912422,
            "_view_module": "@jupyter-widgets/controls",
            "_model_module_version": "1.5.0",
            "value": 9912422,
            "_view_count": null,
            "_view_module_version": "1.5.0",
            "orientation": "horizontal",
            "min": 0,
            "description_tooltip": null,
            "_model_module": "@jupyter-widgets/controls",
            "layout": "IPY_MODEL_c7119624a894445e972679d2feae48f7"
          }
        },
        "894c85184ec74c60a6234777dffc8804": {
          "model_module": "@jupyter-widgets/controls",
          "model_name": "HTMLModel",
          "state": {
            "_view_name": "HTMLView",
            "style": "IPY_MODEL_71a1c45c0624485887258d6eb9c0b8ae",
            "_dom_classes": [],
            "description": "",
            "_model_name": "HTMLModel",
            "placeholder": "​",
            "_view_module": "@jupyter-widgets/controls",
            "_model_module_version": "1.5.0",
            "value": " 9913344/? [01:29&lt;00:00, 111257.85it/s]",
            "_view_count": null,
            "_view_module_version": "1.5.0",
            "description_tooltip": null,
            "_model_module": "@jupyter-widgets/controls",
            "layout": "IPY_MODEL_b5e36643d7924bcfb97d8b4b24abbb47"
          }
        },
        "aa8a0612b43c4281b7376c5e4f2e03d0": {
          "model_module": "@jupyter-widgets/controls",
          "model_name": "ProgressStyleModel",
          "state": {
            "_view_name": "StyleView",
            "_model_name": "ProgressStyleModel",
            "description_width": "initial",
            "_view_module": "@jupyter-widgets/base",
            "_model_module_version": "1.5.0",
            "_view_count": null,
            "_view_module_version": "1.2.0",
            "bar_color": null,
            "_model_module": "@jupyter-widgets/controls"
          }
        },
        "c7119624a894445e972679d2feae48f7": {
          "model_module": "@jupyter-widgets/base",
          "model_name": "LayoutModel",
          "state": {
            "_view_name": "LayoutView",
            "grid_template_rows": null,
            "right": null,
            "justify_content": null,
            "_view_module": "@jupyter-widgets/base",
            "overflow": null,
            "_model_module_version": "1.2.0",
            "_view_count": null,
            "flex_flow": null,
            "width": null,
            "min_width": null,
            "border": null,
            "align_items": null,
            "bottom": null,
            "_model_module": "@jupyter-widgets/base",
            "top": null,
            "grid_column": null,
            "overflow_y": null,
            "overflow_x": null,
            "grid_auto_flow": null,
            "grid_area": null,
            "grid_template_columns": null,
            "flex": null,
            "_model_name": "LayoutModel",
            "justify_items": null,
            "grid_row": null,
            "max_height": null,
            "align_content": null,
            "visibility": null,
            "align_self": null,
            "height": null,
            "min_height": null,
            "padding": null,
            "grid_auto_rows": null,
            "grid_gap": null,
            "max_width": null,
            "order": null,
            "_view_module_version": "1.2.0",
            "grid_template_areas": null,
            "object_position": null,
            "object_fit": null,
            "grid_auto_columns": null,
            "margin": null,
            "display": null,
            "left": null
          }
        },
        "71a1c45c0624485887258d6eb9c0b8ae": {
          "model_module": "@jupyter-widgets/controls",
          "model_name": "DescriptionStyleModel",
          "state": {
            "_view_name": "StyleView",
            "_model_name": "DescriptionStyleModel",
            "description_width": "",
            "_view_module": "@jupyter-widgets/base",
            "_model_module_version": "1.5.0",
            "_view_count": null,
            "_view_module_version": "1.2.0",
            "_model_module": "@jupyter-widgets/controls"
          }
        },
        "b5e36643d7924bcfb97d8b4b24abbb47": {
          "model_module": "@jupyter-widgets/base",
          "model_name": "LayoutModel",
          "state": {
            "_view_name": "LayoutView",
            "grid_template_rows": null,
            "right": null,
            "justify_content": null,
            "_view_module": "@jupyter-widgets/base",
            "overflow": null,
            "_model_module_version": "1.2.0",
            "_view_count": null,
            "flex_flow": null,
            "width": null,
            "min_width": null,
            "border": null,
            "align_items": null,
            "bottom": null,
            "_model_module": "@jupyter-widgets/base",
            "top": null,
            "grid_column": null,
            "overflow_y": null,
            "overflow_x": null,
            "grid_auto_flow": null,
            "grid_area": null,
            "grid_template_columns": null,
            "flex": null,
            "_model_name": "LayoutModel",
            "justify_items": null,
            "grid_row": null,
            "max_height": null,
            "align_content": null,
            "visibility": null,
            "align_self": null,
            "height": null,
            "min_height": null,
            "padding": null,
            "grid_auto_rows": null,
            "grid_gap": null,
            "max_width": null,
            "order": null,
            "_view_module_version": "1.2.0",
            "grid_template_areas": null,
            "object_position": null,
            "object_fit": null,
            "grid_auto_columns": null,
            "margin": null,
            "display": null,
            "left": null
          }
        },
        "5b000df9255c43c595b1fb430f7a1698": {
          "model_module": "@jupyter-widgets/controls",
          "model_name": "HBoxModel",
          "state": {
            "_view_name": "HBoxView",
            "_dom_classes": [],
            "_model_name": "HBoxModel",
            "_view_module": "@jupyter-widgets/controls",
            "_model_module_version": "1.5.0",
            "_view_count": null,
            "_view_module_version": "1.5.0",
            "box_style": "",
            "layout": "IPY_MODEL_9f9ff378fb5b439785862165088821fb",
            "_model_module": "@jupyter-widgets/controls",
            "children": [
              "IPY_MODEL_f70d982fa45b4a62a8968aa9cd20e2ea",
              "IPY_MODEL_a720ce5698d14ebdbc21d2a63178d3cb"
            ]
          }
        },
        "9f9ff378fb5b439785862165088821fb": {
          "model_module": "@jupyter-widgets/base",
          "model_name": "LayoutModel",
          "state": {
            "_view_name": "LayoutView",
            "grid_template_rows": null,
            "right": null,
            "justify_content": null,
            "_view_module": "@jupyter-widgets/base",
            "overflow": null,
            "_model_module_version": "1.2.0",
            "_view_count": null,
            "flex_flow": null,
            "width": null,
            "min_width": null,
            "border": null,
            "align_items": null,
            "bottom": null,
            "_model_module": "@jupyter-widgets/base",
            "top": null,
            "grid_column": null,
            "overflow_y": null,
            "overflow_x": null,
            "grid_auto_flow": null,
            "grid_area": null,
            "grid_template_columns": null,
            "flex": null,
            "_model_name": "LayoutModel",
            "justify_items": null,
            "grid_row": null,
            "max_height": null,
            "align_content": null,
            "visibility": null,
            "align_self": null,
            "height": null,
            "min_height": null,
            "padding": null,
            "grid_auto_rows": null,
            "grid_gap": null,
            "max_width": null,
            "order": null,
            "_view_module_version": "1.2.0",
            "grid_template_areas": null,
            "object_position": null,
            "object_fit": null,
            "grid_auto_columns": null,
            "margin": null,
            "display": null,
            "left": null
          }
        },
        "f70d982fa45b4a62a8968aa9cd20e2ea": {
          "model_module": "@jupyter-widgets/controls",
          "model_name": "FloatProgressModel",
          "state": {
            "_view_name": "ProgressView",
            "style": "IPY_MODEL_8b9d37a567804981b5c69b8728667915",
            "_dom_classes": [],
            "description": "",
            "_model_name": "FloatProgressModel",
            "bar_style": "success",
            "max": 28881,
            "_view_module": "@jupyter-widgets/controls",
            "_model_module_version": "1.5.0",
            "value": 28881,
            "_view_count": null,
            "_view_module_version": "1.5.0",
            "orientation": "horizontal",
            "min": 0,
            "description_tooltip": null,
            "_model_module": "@jupyter-widgets/controls",
            "layout": "IPY_MODEL_bde142d1b0af4dffbdb82dd2e66adea7"
          }
        },
        "a720ce5698d14ebdbc21d2a63178d3cb": {
          "model_module": "@jupyter-widgets/controls",
          "model_name": "HTMLModel",
          "state": {
            "_view_name": "HTMLView",
            "style": "IPY_MODEL_1c45431e6da241509e092a5e4b0ed333",
            "_dom_classes": [],
            "description": "",
            "_model_name": "HTMLModel",
            "placeholder": "​",
            "_view_module": "@jupyter-widgets/controls",
            "_model_module_version": "1.5.0",
            "value": " 29696/? [11:44&lt;00:00, 42.17it/s]",
            "_view_count": null,
            "_view_module_version": "1.5.0",
            "description_tooltip": null,
            "_model_module": "@jupyter-widgets/controls",
            "layout": "IPY_MODEL_5aa3831b51d94400b87489f3f75bb16d"
          }
        },
        "8b9d37a567804981b5c69b8728667915": {
          "model_module": "@jupyter-widgets/controls",
          "model_name": "ProgressStyleModel",
          "state": {
            "_view_name": "StyleView",
            "_model_name": "ProgressStyleModel",
            "description_width": "initial",
            "_view_module": "@jupyter-widgets/base",
            "_model_module_version": "1.5.0",
            "_view_count": null,
            "_view_module_version": "1.2.0",
            "bar_color": null,
            "_model_module": "@jupyter-widgets/controls"
          }
        },
        "bde142d1b0af4dffbdb82dd2e66adea7": {
          "model_module": "@jupyter-widgets/base",
          "model_name": "LayoutModel",
          "state": {
            "_view_name": "LayoutView",
            "grid_template_rows": null,
            "right": null,
            "justify_content": null,
            "_view_module": "@jupyter-widgets/base",
            "overflow": null,
            "_model_module_version": "1.2.0",
            "_view_count": null,
            "flex_flow": null,
            "width": null,
            "min_width": null,
            "border": null,
            "align_items": null,
            "bottom": null,
            "_model_module": "@jupyter-widgets/base",
            "top": null,
            "grid_column": null,
            "overflow_y": null,
            "overflow_x": null,
            "grid_auto_flow": null,
            "grid_area": null,
            "grid_template_columns": null,
            "flex": null,
            "_model_name": "LayoutModel",
            "justify_items": null,
            "grid_row": null,
            "max_height": null,
            "align_content": null,
            "visibility": null,
            "align_self": null,
            "height": null,
            "min_height": null,
            "padding": null,
            "grid_auto_rows": null,
            "grid_gap": null,
            "max_width": null,
            "order": null,
            "_view_module_version": "1.2.0",
            "grid_template_areas": null,
            "object_position": null,
            "object_fit": null,
            "grid_auto_columns": null,
            "margin": null,
            "display": null,
            "left": null
          }
        },
        "1c45431e6da241509e092a5e4b0ed333": {
          "model_module": "@jupyter-widgets/controls",
          "model_name": "DescriptionStyleModel",
          "state": {
            "_view_name": "StyleView",
            "_model_name": "DescriptionStyleModel",
            "description_width": "",
            "_view_module": "@jupyter-widgets/base",
            "_model_module_version": "1.5.0",
            "_view_count": null,
            "_view_module_version": "1.2.0",
            "_model_module": "@jupyter-widgets/controls"
          }
        },
        "5aa3831b51d94400b87489f3f75bb16d": {
          "model_module": "@jupyter-widgets/base",
          "model_name": "LayoutModel",
          "state": {
            "_view_name": "LayoutView",
            "grid_template_rows": null,
            "right": null,
            "justify_content": null,
            "_view_module": "@jupyter-widgets/base",
            "overflow": null,
            "_model_module_version": "1.2.0",
            "_view_count": null,
            "flex_flow": null,
            "width": null,
            "min_width": null,
            "border": null,
            "align_items": null,
            "bottom": null,
            "_model_module": "@jupyter-widgets/base",
            "top": null,
            "grid_column": null,
            "overflow_y": null,
            "overflow_x": null,
            "grid_auto_flow": null,
            "grid_area": null,
            "grid_template_columns": null,
            "flex": null,
            "_model_name": "LayoutModel",
            "justify_items": null,
            "grid_row": null,
            "max_height": null,
            "align_content": null,
            "visibility": null,
            "align_self": null,
            "height": null,
            "min_height": null,
            "padding": null,
            "grid_auto_rows": null,
            "grid_gap": null,
            "max_width": null,
            "order": null,
            "_view_module_version": "1.2.0",
            "grid_template_areas": null,
            "object_position": null,
            "object_fit": null,
            "grid_auto_columns": null,
            "margin": null,
            "display": null,
            "left": null
          }
        },
        "704d155e52c34edc878cc669697ad435": {
          "model_module": "@jupyter-widgets/controls",
          "model_name": "HBoxModel",
          "state": {
            "_view_name": "HBoxView",
            "_dom_classes": [],
            "_model_name": "HBoxModel",
            "_view_module": "@jupyter-widgets/controls",
            "_model_module_version": "1.5.0",
            "_view_count": null,
            "_view_module_version": "1.5.0",
            "box_style": "",
            "layout": "IPY_MODEL_8771aab64608424ca2ecf668ff6597e2",
            "_model_module": "@jupyter-widgets/controls",
            "children": [
              "IPY_MODEL_9da6355d002d45beb739528234e866ce",
              "IPY_MODEL_816cb44af3bb43199af217d13b09fe6d"
            ]
          }
        },
        "8771aab64608424ca2ecf668ff6597e2": {
          "model_module": "@jupyter-widgets/base",
          "model_name": "LayoutModel",
          "state": {
            "_view_name": "LayoutView",
            "grid_template_rows": null,
            "right": null,
            "justify_content": null,
            "_view_module": "@jupyter-widgets/base",
            "overflow": null,
            "_model_module_version": "1.2.0",
            "_view_count": null,
            "flex_flow": null,
            "width": null,
            "min_width": null,
            "border": null,
            "align_items": null,
            "bottom": null,
            "_model_module": "@jupyter-widgets/base",
            "top": null,
            "grid_column": null,
            "overflow_y": null,
            "overflow_x": null,
            "grid_auto_flow": null,
            "grid_area": null,
            "grid_template_columns": null,
            "flex": null,
            "_model_name": "LayoutModel",
            "justify_items": null,
            "grid_row": null,
            "max_height": null,
            "align_content": null,
            "visibility": null,
            "align_self": null,
            "height": null,
            "min_height": null,
            "padding": null,
            "grid_auto_rows": null,
            "grid_gap": null,
            "max_width": null,
            "order": null,
            "_view_module_version": "1.2.0",
            "grid_template_areas": null,
            "object_position": null,
            "object_fit": null,
            "grid_auto_columns": null,
            "margin": null,
            "display": null,
            "left": null
          }
        },
        "9da6355d002d45beb739528234e866ce": {
          "model_module": "@jupyter-widgets/controls",
          "model_name": "FloatProgressModel",
          "state": {
            "_view_name": "ProgressView",
            "style": "IPY_MODEL_88d4af6aafc047cd9859650291c85fd1",
            "_dom_classes": [],
            "description": "",
            "_model_name": "FloatProgressModel",
            "bar_style": "success",
            "max": 1648877,
            "_view_module": "@jupyter-widgets/controls",
            "_model_module_version": "1.5.0",
            "value": 1648877,
            "_view_count": null,
            "_view_module_version": "1.5.0",
            "orientation": "horizontal",
            "min": 0,
            "description_tooltip": null,
            "_model_module": "@jupyter-widgets/controls",
            "layout": "IPY_MODEL_550844fb69c640b1a85e52969f29487f"
          }
        },
        "816cb44af3bb43199af217d13b09fe6d": {
          "model_module": "@jupyter-widgets/controls",
          "model_name": "HTMLModel",
          "state": {
            "_view_name": "HTMLView",
            "style": "IPY_MODEL_ace4bf9736c94b4a9ccea1ec6faca408",
            "_dom_classes": [],
            "description": "",
            "_model_name": "HTMLModel",
            "placeholder": "​",
            "_view_module": "@jupyter-widgets/controls",
            "_model_module_version": "1.5.0",
            "value": " 1649664/? [00:28&lt;00:00, 56887.03it/s]",
            "_view_count": null,
            "_view_module_version": "1.5.0",
            "description_tooltip": null,
            "_model_module": "@jupyter-widgets/controls",
            "layout": "IPY_MODEL_aac0d9e2b90f4f7f9d9a170fad284568"
          }
        },
        "88d4af6aafc047cd9859650291c85fd1": {
          "model_module": "@jupyter-widgets/controls",
          "model_name": "ProgressStyleModel",
          "state": {
            "_view_name": "StyleView",
            "_model_name": "ProgressStyleModel",
            "description_width": "initial",
            "_view_module": "@jupyter-widgets/base",
            "_model_module_version": "1.5.0",
            "_view_count": null,
            "_view_module_version": "1.2.0",
            "bar_color": null,
            "_model_module": "@jupyter-widgets/controls"
          }
        },
        "550844fb69c640b1a85e52969f29487f": {
          "model_module": "@jupyter-widgets/base",
          "model_name": "LayoutModel",
          "state": {
            "_view_name": "LayoutView",
            "grid_template_rows": null,
            "right": null,
            "justify_content": null,
            "_view_module": "@jupyter-widgets/base",
            "overflow": null,
            "_model_module_version": "1.2.0",
            "_view_count": null,
            "flex_flow": null,
            "width": null,
            "min_width": null,
            "border": null,
            "align_items": null,
            "bottom": null,
            "_model_module": "@jupyter-widgets/base",
            "top": null,
            "grid_column": null,
            "overflow_y": null,
            "overflow_x": null,
            "grid_auto_flow": null,
            "grid_area": null,
            "grid_template_columns": null,
            "flex": null,
            "_model_name": "LayoutModel",
            "justify_items": null,
            "grid_row": null,
            "max_height": null,
            "align_content": null,
            "visibility": null,
            "align_self": null,
            "height": null,
            "min_height": null,
            "padding": null,
            "grid_auto_rows": null,
            "grid_gap": null,
            "max_width": null,
            "order": null,
            "_view_module_version": "1.2.0",
            "grid_template_areas": null,
            "object_position": null,
            "object_fit": null,
            "grid_auto_columns": null,
            "margin": null,
            "display": null,
            "left": null
          }
        },
        "ace4bf9736c94b4a9ccea1ec6faca408": {
          "model_module": "@jupyter-widgets/controls",
          "model_name": "DescriptionStyleModel",
          "state": {
            "_view_name": "StyleView",
            "_model_name": "DescriptionStyleModel",
            "description_width": "",
            "_view_module": "@jupyter-widgets/base",
            "_model_module_version": "1.5.0",
            "_view_count": null,
            "_view_module_version": "1.2.0",
            "_model_module": "@jupyter-widgets/controls"
          }
        },
        "aac0d9e2b90f4f7f9d9a170fad284568": {
          "model_module": "@jupyter-widgets/base",
          "model_name": "LayoutModel",
          "state": {
            "_view_name": "LayoutView",
            "grid_template_rows": null,
            "right": null,
            "justify_content": null,
            "_view_module": "@jupyter-widgets/base",
            "overflow": null,
            "_model_module_version": "1.2.0",
            "_view_count": null,
            "flex_flow": null,
            "width": null,
            "min_width": null,
            "border": null,
            "align_items": null,
            "bottom": null,
            "_model_module": "@jupyter-widgets/base",
            "top": null,
            "grid_column": null,
            "overflow_y": null,
            "overflow_x": null,
            "grid_auto_flow": null,
            "grid_area": null,
            "grid_template_columns": null,
            "flex": null,
            "_model_name": "LayoutModel",
            "justify_items": null,
            "grid_row": null,
            "max_height": null,
            "align_content": null,
            "visibility": null,
            "align_self": null,
            "height": null,
            "min_height": null,
            "padding": null,
            "grid_auto_rows": null,
            "grid_gap": null,
            "max_width": null,
            "order": null,
            "_view_module_version": "1.2.0",
            "grid_template_areas": null,
            "object_position": null,
            "object_fit": null,
            "grid_auto_columns": null,
            "margin": null,
            "display": null,
            "left": null
          }
        },
        "c2232ad9ca5742c4bd95cd52a37b3eed": {
          "model_module": "@jupyter-widgets/controls",
          "model_name": "HBoxModel",
          "state": {
            "_view_name": "HBoxView",
            "_dom_classes": [],
            "_model_name": "HBoxModel",
            "_view_module": "@jupyter-widgets/controls",
            "_model_module_version": "1.5.0",
            "_view_count": null,
            "_view_module_version": "1.5.0",
            "box_style": "",
            "layout": "IPY_MODEL_cdbbdde1854e464095cfb60753186fe8",
            "_model_module": "@jupyter-widgets/controls",
            "children": [
              "IPY_MODEL_5e6620e5636645998051adc03f6041dc",
              "IPY_MODEL_bfeeb1de86dd4e03ab5f6656d7f70ddb"
            ]
          }
        },
        "cdbbdde1854e464095cfb60753186fe8": {
          "model_module": "@jupyter-widgets/base",
          "model_name": "LayoutModel",
          "state": {
            "_view_name": "LayoutView",
            "grid_template_rows": null,
            "right": null,
            "justify_content": null,
            "_view_module": "@jupyter-widgets/base",
            "overflow": null,
            "_model_module_version": "1.2.0",
            "_view_count": null,
            "flex_flow": null,
            "width": null,
            "min_width": null,
            "border": null,
            "align_items": null,
            "bottom": null,
            "_model_module": "@jupyter-widgets/base",
            "top": null,
            "grid_column": null,
            "overflow_y": null,
            "overflow_x": null,
            "grid_auto_flow": null,
            "grid_area": null,
            "grid_template_columns": null,
            "flex": null,
            "_model_name": "LayoutModel",
            "justify_items": null,
            "grid_row": null,
            "max_height": null,
            "align_content": null,
            "visibility": null,
            "align_self": null,
            "height": null,
            "min_height": null,
            "padding": null,
            "grid_auto_rows": null,
            "grid_gap": null,
            "max_width": null,
            "order": null,
            "_view_module_version": "1.2.0",
            "grid_template_areas": null,
            "object_position": null,
            "object_fit": null,
            "grid_auto_columns": null,
            "margin": null,
            "display": null,
            "left": null
          }
        },
        "5e6620e5636645998051adc03f6041dc": {
          "model_module": "@jupyter-widgets/controls",
          "model_name": "FloatProgressModel",
          "state": {
            "_view_name": "ProgressView",
            "style": "IPY_MODEL_8c8deafaa339407b88f00626e50d6c01",
            "_dom_classes": [],
            "description": "",
            "_model_name": "FloatProgressModel",
            "bar_style": "success",
            "max": 4542,
            "_view_module": "@jupyter-widgets/controls",
            "_model_module_version": "1.5.0",
            "value": 4542,
            "_view_count": null,
            "_view_module_version": "1.5.0",
            "orientation": "horizontal",
            "min": 0,
            "description_tooltip": null,
            "_model_module": "@jupyter-widgets/controls",
            "layout": "IPY_MODEL_9db2ba24dfbc486eb2982ea31acd9583"
          }
        },
        "bfeeb1de86dd4e03ab5f6656d7f70ddb": {
          "model_module": "@jupyter-widgets/controls",
          "model_name": "HTMLModel",
          "state": {
            "_view_name": "HTMLView",
            "style": "IPY_MODEL_7e420e710a864754be2454a7df3db87e",
            "_dom_classes": [],
            "description": "",
            "_model_name": "HTMLModel",
            "placeholder": "​",
            "_view_module": "@jupyter-widgets/controls",
            "_model_module_version": "1.5.0",
            "value": " 5120/? [00:00&lt;00:00, 25394.38it/s]",
            "_view_count": null,
            "_view_module_version": "1.5.0",
            "description_tooltip": null,
            "_model_module": "@jupyter-widgets/controls",
            "layout": "IPY_MODEL_031a94f64b3f4af594a094140e6f18d7"
          }
        },
        "8c8deafaa339407b88f00626e50d6c01": {
          "model_module": "@jupyter-widgets/controls",
          "model_name": "ProgressStyleModel",
          "state": {
            "_view_name": "StyleView",
            "_model_name": "ProgressStyleModel",
            "description_width": "initial",
            "_view_module": "@jupyter-widgets/base",
            "_model_module_version": "1.5.0",
            "_view_count": null,
            "_view_module_version": "1.2.0",
            "bar_color": null,
            "_model_module": "@jupyter-widgets/controls"
          }
        },
        "9db2ba24dfbc486eb2982ea31acd9583": {
          "model_module": "@jupyter-widgets/base",
          "model_name": "LayoutModel",
          "state": {
            "_view_name": "LayoutView",
            "grid_template_rows": null,
            "right": null,
            "justify_content": null,
            "_view_module": "@jupyter-widgets/base",
            "overflow": null,
            "_model_module_version": "1.2.0",
            "_view_count": null,
            "flex_flow": null,
            "width": null,
            "min_width": null,
            "border": null,
            "align_items": null,
            "bottom": null,
            "_model_module": "@jupyter-widgets/base",
            "top": null,
            "grid_column": null,
            "overflow_y": null,
            "overflow_x": null,
            "grid_auto_flow": null,
            "grid_area": null,
            "grid_template_columns": null,
            "flex": null,
            "_model_name": "LayoutModel",
            "justify_items": null,
            "grid_row": null,
            "max_height": null,
            "align_content": null,
            "visibility": null,
            "align_self": null,
            "height": null,
            "min_height": null,
            "padding": null,
            "grid_auto_rows": null,
            "grid_gap": null,
            "max_width": null,
            "order": null,
            "_view_module_version": "1.2.0",
            "grid_template_areas": null,
            "object_position": null,
            "object_fit": null,
            "grid_auto_columns": null,
            "margin": null,
            "display": null,
            "left": null
          }
        },
        "7e420e710a864754be2454a7df3db87e": {
          "model_module": "@jupyter-widgets/controls",
          "model_name": "DescriptionStyleModel",
          "state": {
            "_view_name": "StyleView",
            "_model_name": "DescriptionStyleModel",
            "description_width": "",
            "_view_module": "@jupyter-widgets/base",
            "_model_module_version": "1.5.0",
            "_view_count": null,
            "_view_module_version": "1.2.0",
            "_model_module": "@jupyter-widgets/controls"
          }
        },
        "031a94f64b3f4af594a094140e6f18d7": {
          "model_module": "@jupyter-widgets/base",
          "model_name": "LayoutModel",
          "state": {
            "_view_name": "LayoutView",
            "grid_template_rows": null,
            "right": null,
            "justify_content": null,
            "_view_module": "@jupyter-widgets/base",
            "overflow": null,
            "_model_module_version": "1.2.0",
            "_view_count": null,
            "flex_flow": null,
            "width": null,
            "min_width": null,
            "border": null,
            "align_items": null,
            "bottom": null,
            "_model_module": "@jupyter-widgets/base",
            "top": null,
            "grid_column": null,
            "overflow_y": null,
            "overflow_x": null,
            "grid_auto_flow": null,
            "grid_area": null,
            "grid_template_columns": null,
            "flex": null,
            "_model_name": "LayoutModel",
            "justify_items": null,
            "grid_row": null,
            "max_height": null,
            "align_content": null,
            "visibility": null,
            "align_self": null,
            "height": null,
            "min_height": null,
            "padding": null,
            "grid_auto_rows": null,
            "grid_gap": null,
            "max_width": null,
            "order": null,
            "_view_module_version": "1.2.0",
            "grid_template_areas": null,
            "object_position": null,
            "object_fit": null,
            "grid_auto_columns": null,
            "margin": null,
            "display": null,
            "left": null
          }
        }
      }
    }
  },
  "cells": [
    {
      "cell_type": "markdown",
      "metadata": {
        "id": "view-in-github",
        "colab_type": "text"
      },
      "source": [
        "<a href=\"https://colab.research.google.com/github/NikhilAsogekar3/Deep-generative-models/blob/Nikhil-Asogekar/GAN_MNIST.ipynb\" target=\"_parent\"><img src=\"https://colab.research.google.com/assets/colab-badge.svg\" alt=\"Open In Colab\"/></a>"
      ]
    },
    {
      "cell_type": "code",
      "metadata": {
        "colab": {
          "base_uri": "https://localhost:8080/"
        },
        "id": "O7W1oFfpUxjj",
        "outputId": "26848dca-4ce7-417f-fe05-afb4f69f60c1"
      },
      "source": [
        "!pip install torch torchvision"
      ],
      "execution_count": null,
      "outputs": [
        {
          "output_type": "stream",
          "text": [
            "Requirement already satisfied: torch in /usr/local/lib/python3.7/dist-packages (1.8.1+cu101)\n",
            "Requirement already satisfied: torchvision in /usr/local/lib/python3.7/dist-packages (0.9.1+cu101)\n",
            "Requirement already satisfied: typing-extensions in /usr/local/lib/python3.7/dist-packages (from torch) (3.7.4.3)\n",
            "Requirement already satisfied: numpy in /usr/local/lib/python3.7/dist-packages (from torch) (1.19.5)\n",
            "Requirement already satisfied: pillow>=4.1.1 in /usr/local/lib/python3.7/dist-packages (from torchvision) (7.1.2)\n"
          ],
          "name": "stdout"
        }
      ]
    },
    {
      "cell_type": "code",
      "metadata": {
        "id": "5Ys69p8MUxmE"
      },
      "source": [
        "import torch\n",
        "import torchvision\n",
        "import torch.nn as nn\n",
        "import torch.nn.functional as F"
      ],
      "execution_count": null,
      "outputs": []
    },
    {
      "cell_type": "code",
      "metadata": {
        "id": "27s3D1vFUxoP"
      },
      "source": [
        "from torch.utils.data import DataLoader\n",
        "from torchvision import datasets\n",
        "from torchvision import transforms\n",
        "from torchvision.utils import save_image\n",
        "\n",
        "import numpy as np\n",
        "import datetime\n",
        "import os, sys\n",
        "\n",
        "from matplotlib.pyplot import imshow, imsave\n",
        "%matplotlib inline"
      ],
      "execution_count": null,
      "outputs": []
    },
    {
      "cell_type": "code",
      "metadata": {
        "id": "gauLBuHUUxqh"
      },
      "source": [
        "MODEL_NAME = 'GAN'\n",
        "DEVICE = torch.device(\"cuda\" if torch.cuda.is_available() else \"cpu\")"
      ],
      "execution_count": null,
      "outputs": []
    },
    {
      "cell_type": "code",
      "metadata": {
        "id": "itHdvLRzUxs5"
      },
      "source": [
        "def get_sample_image(G, n_noise):\n",
        "    \"\"\"\n",
        "        save sample 100 images\n",
        "    \"\"\"\n",
        "    z = torch.randn(100, n_noise).to(DEVICE)\n",
        "    y_hat = G(z).view(100, 28, 28) # (100, 28, 28)\n",
        "    result = y_hat.cpu().data.numpy()\n",
        "    img = np.zeros([280, 280])\n",
        "    for j in range(10):\n",
        "        img[j*28:(j+1)*28] = np.concatenate([x for x in result[j*10:(j+1)*10]], axis=-1)\n",
        "    return img"
      ],
      "execution_count": null,
      "outputs": []
    },
    {
      "cell_type": "code",
      "metadata": {
        "id": "33TPAFzDUxu9"
      },
      "source": [
        "class Discriminator(nn.Module):\n",
        "    \"\"\"\n",
        "        Simple Discriminator w/ MLP\n",
        "    \"\"\"\n",
        "    def __init__(self, input_size=784, num_classes=1):\n",
        "        super(Discriminator, self).__init__()\n",
        "        self.layer = nn.Sequential(\n",
        "            nn.Linear(input_size, 512),\n",
        "            nn.LeakyReLU(0.2),\n",
        "            nn.Linear(512, 256),\n",
        "            nn.LeakyReLU(0.2),\n",
        "            nn.Linear(256, num_classes),\n",
        "            nn.Sigmoid(),\n",
        "        )\n",
        "    \n",
        "    def forward(self, x):\n",
        "        y_ = x.view(x.size(0), -1)\n",
        "        y_ = self.layer(y_)\n",
        "        return y_"
      ],
      "execution_count": null,
      "outputs": []
    },
    {
      "cell_type": "code",
      "metadata": {
        "id": "6hOe5GL-Uxxa"
      },
      "source": [
        "class Generator(nn.Module):\n",
        "    \"\"\"\n",
        "        Simple Generator w/ MLP\n",
        "    \"\"\"\n",
        "    def __init__(self, input_size=100, num_classes=784):\n",
        "        super(Generator, self).__init__()\n",
        "        self.layer = nn.Sequential(\n",
        "            nn.Linear(input_size, 128),\n",
        "            nn.LeakyReLU(0.2),\n",
        "            nn.Linear(128, 256),\n",
        "            nn.BatchNorm1d(256),\n",
        "            nn.LeakyReLU(0.2),\n",
        "            nn.Linear(256, 512),\n",
        "            nn.BatchNorm1d(512),\n",
        "            nn.LeakyReLU(0.2),\n",
        "            nn.Linear(512, 1024),\n",
        "            nn.BatchNorm1d(1024),\n",
        "            nn.LeakyReLU(0.2),\n",
        "            nn.Linear(1024, num_classes),\n",
        "            nn.Tanh()\n",
        "        )\n",
        "        \n",
        "    def forward(self, x):\n",
        "        y_ = self.layer(x)\n",
        "        y_ = y_.view(x.size(0), 1, 28, 28)\n",
        "        return y_"
      ],
      "execution_count": null,
      "outputs": []
    },
    {
      "cell_type": "code",
      "metadata": {
        "id": "a81NcP4UUxzi"
      },
      "source": [
        "n_noise = 100"
      ],
      "execution_count": null,
      "outputs": []
    },
    {
      "cell_type": "code",
      "metadata": {
        "id": "_iq7tnIYVFEx"
      },
      "source": [
        "D = Discriminator().to(DEVICE)\n",
        "G = Generator(n_noise).to(DEVICE)"
      ],
      "execution_count": null,
      "outputs": []
    },
    {
      "cell_type": "code",
      "metadata": {
        "id": "PG8d3FR8VFHL"
      },
      "source": [
        "transform = transforms.Compose([transforms.ToTensor(),\n",
        "                                transforms.Normalize(mean=[0.5],\n",
        "                                std=[0.5])]\n",
        ")"
      ],
      "execution_count": null,
      "outputs": []
    },
    {
      "cell_type": "code",
      "metadata": {
        "colab": {
          "base_uri": "https://localhost:8080/",
          "height": 568,
          "referenced_widgets": [
            "9889cd41356f4c5da2fac0e36768e638",
            "8d3b6faf2af648aa9998e5456487e022",
            "afa42f9aadcc4c97b475debe0ef0247d",
            "894c85184ec74c60a6234777dffc8804",
            "aa8a0612b43c4281b7376c5e4f2e03d0",
            "c7119624a894445e972679d2feae48f7",
            "71a1c45c0624485887258d6eb9c0b8ae",
            "b5e36643d7924bcfb97d8b4b24abbb47",
            "5b000df9255c43c595b1fb430f7a1698",
            "9f9ff378fb5b439785862165088821fb",
            "f70d982fa45b4a62a8968aa9cd20e2ea",
            "a720ce5698d14ebdbc21d2a63178d3cb",
            "8b9d37a567804981b5c69b8728667915",
            "bde142d1b0af4dffbdb82dd2e66adea7",
            "1c45431e6da241509e092a5e4b0ed333",
            "5aa3831b51d94400b87489f3f75bb16d",
            "704d155e52c34edc878cc669697ad435",
            "8771aab64608424ca2ecf668ff6597e2",
            "9da6355d002d45beb739528234e866ce",
            "816cb44af3bb43199af217d13b09fe6d",
            "88d4af6aafc047cd9859650291c85fd1",
            "550844fb69c640b1a85e52969f29487f",
            "ace4bf9736c94b4a9ccea1ec6faca408",
            "aac0d9e2b90f4f7f9d9a170fad284568",
            "c2232ad9ca5742c4bd95cd52a37b3eed",
            "cdbbdde1854e464095cfb60753186fe8",
            "5e6620e5636645998051adc03f6041dc",
            "bfeeb1de86dd4e03ab5f6656d7f70ddb",
            "8c8deafaa339407b88f00626e50d6c01",
            "9db2ba24dfbc486eb2982ea31acd9583",
            "7e420e710a864754be2454a7df3db87e",
            "031a94f64b3f4af594a094140e6f18d7"
          ]
        },
        "id": "JYr2BZ4mVFKq",
        "outputId": "3564077d-ec78-4f01-aa74-de6b8ca80802"
      },
      "source": [
        "mnist = datasets.MNIST(root='../data/', train=True, transform=transform, download=True)"
      ],
      "execution_count": null,
      "outputs": [
        {
          "output_type": "stream",
          "text": [
            "Downloading http://yann.lecun.com/exdb/mnist/train-images-idx3-ubyte.gz\n",
            "Downloading http://yann.lecun.com/exdb/mnist/train-images-idx3-ubyte.gz to ../data/MNIST/raw/train-images-idx3-ubyte.gz\n"
          ],
          "name": "stdout"
        },
        {
          "output_type": "display_data",
          "data": {
            "application/vnd.jupyter.widget-view+json": {
              "model_id": "9889cd41356f4c5da2fac0e36768e638",
              "version_minor": 0,
              "version_major": 2
            },
            "text/plain": [
              "HBox(children=(FloatProgress(value=0.0, max=9912422.0), HTML(value='')))"
            ]
          },
          "metadata": {
            "tags": []
          }
        },
        {
          "output_type": "stream",
          "text": [
            "\n",
            "Extracting ../data/MNIST/raw/train-images-idx3-ubyte.gz to ../data/MNIST/raw\n",
            "\n",
            "Downloading http://yann.lecun.com/exdb/mnist/train-labels-idx1-ubyte.gz\n",
            "Downloading http://yann.lecun.com/exdb/mnist/train-labels-idx1-ubyte.gz to ../data/MNIST/raw/train-labels-idx1-ubyte.gz\n"
          ],
          "name": "stdout"
        },
        {
          "output_type": "display_data",
          "data": {
            "application/vnd.jupyter.widget-view+json": {
              "model_id": "5b000df9255c43c595b1fb430f7a1698",
              "version_minor": 0,
              "version_major": 2
            },
            "text/plain": [
              "HBox(children=(FloatProgress(value=0.0, max=28881.0), HTML(value='')))"
            ]
          },
          "metadata": {
            "tags": []
          }
        },
        {
          "output_type": "stream",
          "text": [
            "\n",
            "Extracting ../data/MNIST/raw/train-labels-idx1-ubyte.gz to ../data/MNIST/raw\n",
            "\n",
            "Downloading http://yann.lecun.com/exdb/mnist/t10k-images-idx3-ubyte.gz\n",
            "Downloading http://yann.lecun.com/exdb/mnist/t10k-images-idx3-ubyte.gz to ../data/MNIST/raw/t10k-images-idx3-ubyte.gz\n"
          ],
          "name": "stdout"
        },
        {
          "output_type": "display_data",
          "data": {
            "application/vnd.jupyter.widget-view+json": {
              "model_id": "704d155e52c34edc878cc669697ad435",
              "version_minor": 0,
              "version_major": 2
            },
            "text/plain": [
              "HBox(children=(FloatProgress(value=0.0, max=1648877.0), HTML(value='')))"
            ]
          },
          "metadata": {
            "tags": []
          }
        },
        {
          "output_type": "stream",
          "text": [
            "\n",
            "Extracting ../data/MNIST/raw/t10k-images-idx3-ubyte.gz to ../data/MNIST/raw\n",
            "\n",
            "Downloading http://yann.lecun.com/exdb/mnist/t10k-labels-idx1-ubyte.gz\n",
            "Downloading http://yann.lecun.com/exdb/mnist/t10k-labels-idx1-ubyte.gz to ../data/MNIST/raw/t10k-labels-idx1-ubyte.gz\n"
          ],
          "name": "stdout"
        },
        {
          "output_type": "display_data",
          "data": {
            "application/vnd.jupyter.widget-view+json": {
              "model_id": "c2232ad9ca5742c4bd95cd52a37b3eed",
              "version_minor": 0,
              "version_major": 2
            },
            "text/plain": [
              "HBox(children=(FloatProgress(value=0.0, max=4542.0), HTML(value='')))"
            ]
          },
          "metadata": {
            "tags": []
          }
        },
        {
          "output_type": "stream",
          "text": [
            "\n",
            "Extracting ../data/MNIST/raw/t10k-labels-idx1-ubyte.gz to ../data/MNIST/raw\n",
            "\n",
            "Processing...\n",
            "Done!\n"
          ],
          "name": "stdout"
        },
        {
          "output_type": "stream",
          "text": [
            "/usr/local/lib/python3.7/dist-packages/torchvision/datasets/mnist.py:502: UserWarning: The given NumPy array is not writeable, and PyTorch does not support non-writeable tensors. This means you can write to the underlying (supposedly non-writeable) NumPy array using the tensor. You may want to copy the array to protect its data or make it writeable before converting it to a tensor. This type of warning will be suppressed for the rest of this program. (Triggered internally at  /pytorch/torch/csrc/utils/tensor_numpy.cpp:143.)\n",
            "  return torch.from_numpy(parsed.astype(m[2], copy=False)).view(*s)\n"
          ],
          "name": "stderr"
        }
      ]
    },
    {
      "cell_type": "code",
      "metadata": {
        "id": "FxzgXDqVVK2L"
      },
      "source": [
        "batch_size = 64"
      ],
      "execution_count": null,
      "outputs": []
    },
    {
      "cell_type": "code",
      "metadata": {
        "id": "9XBw5Q-jVtgI"
      },
      "source": [
        "data_loader = DataLoader(dataset=mnist, batch_size=batch_size, shuffle=True, drop_last=True)"
      ],
      "execution_count": null,
      "outputs": []
    },
    {
      "cell_type": "code",
      "metadata": {
        "id": "gSKHn1TlVRjR"
      },
      "source": [
        "criterion = nn.BCELoss()\n",
        "D_opt = torch.optim.Adam(D.parameters(), lr=0.0002, betas=(0.5, 0.999))\n",
        "G_opt = torch.optim.Adam(G.parameters(), lr=0.0002, betas=(0.5, 0.999))"
      ],
      "execution_count": null,
      "outputs": []
    },
    {
      "cell_type": "code",
      "metadata": {
        "id": "AdI2gBXhVRlY"
      },
      "source": [
        "max_epoch = 50 # need more than 10 epochs for training generator\n",
        "step = 0\n",
        "n_critic = 1 # for training more k steps about Discriminator"
      ],
      "execution_count": null,
      "outputs": []
    },
    {
      "cell_type": "code",
      "metadata": {
        "id": "9HxmkM13Ux1q"
      },
      "source": [
        "D_labels = torch.ones(batch_size, 1).to(DEVICE) # Discriminator Label to real\n",
        "D_fakes = torch.zeros(batch_size, 1).to(DEVICE) # Discriminator Label to fake"
      ],
      "execution_count": null,
      "outputs": []
    },
    {
      "cell_type": "code",
      "metadata": {
        "id": "uvbMabgfVXCk"
      },
      "source": [
        "if not os.path.exists('samples'):\n",
        "    os.makedirs('samples')"
      ],
      "execution_count": null,
      "outputs": []
    },
    {
      "cell_type": "code",
      "metadata": {
        "id": "-edsrgzVjYB4"
      },
      "source": [
        "D_loss_arr = []\n",
        "G_loss_arr = []"
      ],
      "execution_count": null,
      "outputs": []
    },
    {
      "cell_type": "code",
      "metadata": {
        "colab": {
          "base_uri": "https://localhost:8080/"
        },
        "id": "3iLFnVZ6VXEv",
        "outputId": "e49da0e0-8b96-4a4d-e579-007db6e0ad04"
      },
      "source": [
        "for epoch in range(max_epoch):\n",
        "    for idx, (images, _) in enumerate(data_loader):\n",
        "        # Training Discriminator\n",
        "        x = images.to(DEVICE)\n",
        "        x_outputs = D(x)\n",
        "        D_x_loss = criterion(x_outputs, D_labels)\n",
        "\n",
        "        z = torch.randn(batch_size, n_noise).to(DEVICE)\n",
        "        z_outputs = D(G(z))\n",
        "        D_z_loss = criterion(z_outputs, D_fakes)\n",
        "        D_loss = D_x_loss + D_z_loss\n",
        "        \n",
        "        D.zero_grad()\n",
        "        D_loss.backward()\n",
        "        D_opt.step()\n",
        "\n",
        "        if step % n_critic == 0:\n",
        "            # Training Generator\n",
        "            z = torch.randn(batch_size, n_noise).to(DEVICE)\n",
        "            z_outputs = D(G(z))\n",
        "            G_loss = criterion(z_outputs, D_labels)\n",
        "\n",
        "            G.zero_grad()\n",
        "            G_loss.backward()\n",
        "            G_opt.step()\n",
        "        \n",
        "        if step % 500 == 0:\n",
        "            print('Epoch: {}/{}, Step: {}, D Loss: {}, G Loss: {}'.format(epoch, max_epoch, step, D_loss.item(), G_loss.item()))\n",
        "        \n",
        "        if step % 4600 == 0:\n",
        "            G.eval()\n",
        "            img = get_sample_image(G, n_noise)\n",
        "            imsave('samples/{}_step{}.jpg'.format(MODEL_NAME, str(step).zfill(3)), img, cmap='gray')\n",
        "            G.train()\n",
        "        step += 1\n",
        "    D_loss_arr.append(D_loss.item())\n",
        "    G_loss_arr.append(D_loss.item())"
      ],
      "execution_count": null,
      "outputs": [
        {
          "output_type": "stream",
          "text": [
            "Epoch: 0/50, Step: 0, D Loss: 1.3609750270843506, G Loss: 0.6892660856246948\n",
            "Epoch: 0/50, Step: 500, D Loss: 1.3237264156341553, G Loss: 0.7193151712417603\n",
            "Epoch: 1/50, Step: 1000, D Loss: 1.2663366794586182, G Loss: 0.9334394931793213\n",
            "Epoch: 1/50, Step: 1500, D Loss: 1.213322401046753, G Loss: 0.7225517630577087\n",
            "Epoch: 2/50, Step: 2000, D Loss: 1.2268013954162598, G Loss: 1.1060409545898438\n",
            "Epoch: 2/50, Step: 2500, D Loss: 1.2593915462493896, G Loss: 1.2014353275299072\n",
            "Epoch: 3/50, Step: 3000, D Loss: 1.1778979301452637, G Loss: 1.334923505783081\n",
            "Epoch: 3/50, Step: 3500, D Loss: 1.1415510177612305, G Loss: 1.165848970413208\n",
            "Epoch: 4/50, Step: 4000, D Loss: 1.164076566696167, G Loss: 0.8542812466621399\n",
            "Epoch: 4/50, Step: 4500, D Loss: 1.2381037473678589, G Loss: 1.0004515647888184\n",
            "Epoch: 5/50, Step: 5000, D Loss: 1.2607957124710083, G Loss: 1.0087084770202637\n",
            "Epoch: 5/50, Step: 5500, D Loss: 1.1743974685668945, G Loss: 1.0431945323944092\n",
            "Epoch: 6/50, Step: 6000, D Loss: 1.2787916660308838, G Loss: 1.1824672222137451\n",
            "Epoch: 6/50, Step: 6500, D Loss: 1.2225396633148193, G Loss: 1.1095633506774902\n",
            "Epoch: 7/50, Step: 7000, D Loss: 1.2524455785751343, G Loss: 0.9320603609085083\n",
            "Epoch: 8/50, Step: 7500, D Loss: 1.2615547180175781, G Loss: 0.6341791152954102\n",
            "Epoch: 8/50, Step: 8000, D Loss: 1.2224830389022827, G Loss: 0.9283725023269653\n",
            "Epoch: 9/50, Step: 8500, D Loss: 1.339619517326355, G Loss: 0.6263800263404846\n",
            "Epoch: 9/50, Step: 9000, D Loss: 1.2971612215042114, G Loss: 0.7590782642364502\n",
            "Epoch: 10/50, Step: 9500, D Loss: 1.2465298175811768, G Loss: 0.727541983127594\n",
            "Epoch: 10/50, Step: 10000, D Loss: 1.3200228214263916, G Loss: 0.6292829513549805\n",
            "Epoch: 11/50, Step: 10500, D Loss: 1.1912986040115356, G Loss: 0.9600703716278076\n",
            "Epoch: 11/50, Step: 11000, D Loss: 1.3132922649383545, G Loss: 0.9080196619033813\n",
            "Epoch: 12/50, Step: 11500, D Loss: 1.3517687320709229, G Loss: 0.5969066619873047\n",
            "Epoch: 12/50, Step: 12000, D Loss: 1.2766050100326538, G Loss: 0.8029556274414062\n",
            "Epoch: 13/50, Step: 12500, D Loss: 1.233355164527893, G Loss: 0.6941007375717163\n",
            "Epoch: 13/50, Step: 13000, D Loss: 1.271629810333252, G Loss: 0.9147444367408752\n",
            "Epoch: 14/50, Step: 13500, D Loss: 1.3337210416793823, G Loss: 1.003173589706421\n",
            "Epoch: 14/50, Step: 14000, D Loss: 1.3856853246688843, G Loss: 0.8309459686279297\n",
            "Epoch: 15/50, Step: 14500, D Loss: 1.2304661273956299, G Loss: 0.8229902982711792\n",
            "Epoch: 16/50, Step: 15000, D Loss: 1.3269853591918945, G Loss: 0.9346124529838562\n",
            "Epoch: 16/50, Step: 15500, D Loss: 1.3029358386993408, G Loss: 0.8045735359191895\n",
            "Epoch: 17/50, Step: 16000, D Loss: 1.2485177516937256, G Loss: 1.034372091293335\n",
            "Epoch: 17/50, Step: 16500, D Loss: 1.2458101511001587, G Loss: 0.785717248916626\n",
            "Epoch: 18/50, Step: 17000, D Loss: 1.210331916809082, G Loss: 1.0938489437103271\n",
            "Epoch: 18/50, Step: 17500, D Loss: 1.2850604057312012, G Loss: 0.8382924199104309\n",
            "Epoch: 19/50, Step: 18000, D Loss: 1.2424466609954834, G Loss: 0.6455318331718445\n",
            "Epoch: 19/50, Step: 18500, D Loss: 1.3162983655929565, G Loss: 0.8722223043441772\n",
            "Epoch: 20/50, Step: 19000, D Loss: 1.2474517822265625, G Loss: 0.6819191575050354\n",
            "Epoch: 20/50, Step: 19500, D Loss: 1.2226860523223877, G Loss: 1.0622382164001465\n",
            "Epoch: 21/50, Step: 20000, D Loss: 1.3152525424957275, G Loss: 0.6310715675354004\n",
            "Epoch: 21/50, Step: 20500, D Loss: 1.2379486560821533, G Loss: 0.7913759350776672\n",
            "Epoch: 22/50, Step: 21000, D Loss: 1.1955543756484985, G Loss: 0.8562333583831787\n",
            "Epoch: 22/50, Step: 21500, D Loss: 1.2474684715270996, G Loss: 0.5736355781555176\n",
            "Epoch: 23/50, Step: 22000, D Loss: 1.2740551233291626, G Loss: 1.0644190311431885\n",
            "Epoch: 24/50, Step: 22500, D Loss: 1.427932620048523, G Loss: 0.6684868335723877\n",
            "Epoch: 24/50, Step: 23000, D Loss: 1.2241955995559692, G Loss: 1.0475080013275146\n",
            "Epoch: 25/50, Step: 23500, D Loss: 1.2527039051055908, G Loss: 0.9184712171554565\n",
            "Epoch: 25/50, Step: 24000, D Loss: 1.215150237083435, G Loss: 1.2024548053741455\n",
            "Epoch: 26/50, Step: 24500, D Loss: 1.246856689453125, G Loss: 0.85814368724823\n",
            "Epoch: 26/50, Step: 25000, D Loss: 1.2972509860992432, G Loss: 1.0482239723205566\n",
            "Epoch: 27/50, Step: 25500, D Loss: 1.1742722988128662, G Loss: 0.7776098251342773\n",
            "Epoch: 27/50, Step: 26000, D Loss: 1.254077434539795, G Loss: 0.9116008877754211\n",
            "Epoch: 28/50, Step: 26500, D Loss: 1.280545711517334, G Loss: 0.9759351015090942\n",
            "Epoch: 28/50, Step: 27000, D Loss: 1.2720156908035278, G Loss: 1.0683006048202515\n",
            "Epoch: 29/50, Step: 27500, D Loss: 1.2983263731002808, G Loss: 0.7157734036445618\n",
            "Epoch: 29/50, Step: 28000, D Loss: 1.282564640045166, G Loss: 0.9846920967102051\n",
            "Epoch: 30/50, Step: 28500, D Loss: 1.2653167247772217, G Loss: 0.7329336404800415\n",
            "Epoch: 30/50, Step: 29000, D Loss: 1.2625911235809326, G Loss: 0.872071385383606\n",
            "Epoch: 31/50, Step: 29500, D Loss: 1.2440439462661743, G Loss: 0.9686272144317627\n",
            "Epoch: 32/50, Step: 30000, D Loss: 1.2081387042999268, G Loss: 1.0577547550201416\n",
            "Epoch: 32/50, Step: 30500, D Loss: 1.2769439220428467, G Loss: 0.8976483345031738\n",
            "Epoch: 33/50, Step: 31000, D Loss: 1.3021109104156494, G Loss: 0.9280447363853455\n",
            "Epoch: 33/50, Step: 31500, D Loss: 1.2097901105880737, G Loss: 0.9444173574447632\n",
            "Epoch: 34/50, Step: 32000, D Loss: 1.256636381149292, G Loss: 1.0553685426712036\n",
            "Epoch: 34/50, Step: 32500, D Loss: 1.336606740951538, G Loss: 0.924493670463562\n",
            "Epoch: 35/50, Step: 33000, D Loss: 1.2711536884307861, G Loss: 1.0551207065582275\n",
            "Epoch: 35/50, Step: 33500, D Loss: 1.2630045413970947, G Loss: 0.9367651343345642\n",
            "Epoch: 36/50, Step: 34000, D Loss: 1.2486376762390137, G Loss: 0.8343802094459534\n",
            "Epoch: 36/50, Step: 34500, D Loss: 1.1742298603057861, G Loss: 1.1725006103515625\n",
            "Epoch: 37/50, Step: 35000, D Loss: 1.2047098875045776, G Loss: 0.9226212501525879\n",
            "Epoch: 37/50, Step: 35500, D Loss: 1.2026423215866089, G Loss: 0.9352813959121704\n",
            "Epoch: 38/50, Step: 36000, D Loss: 1.292759656906128, G Loss: 0.9015093445777893\n",
            "Epoch: 38/50, Step: 36500, D Loss: 1.2045484781265259, G Loss: 0.8628641366958618\n",
            "Epoch: 39/50, Step: 37000, D Loss: 1.277132272720337, G Loss: 0.9045736193656921\n",
            "Epoch: 40/50, Step: 37500, D Loss: 1.2143120765686035, G Loss: 1.03047513961792\n",
            "Epoch: 40/50, Step: 38000, D Loss: 1.1570621728897095, G Loss: 0.7481287717819214\n",
            "Epoch: 41/50, Step: 38500, D Loss: 1.1923506259918213, G Loss: 1.0721845626831055\n",
            "Epoch: 41/50, Step: 39000, D Loss: 1.2641137838363647, G Loss: 1.03770911693573\n",
            "Epoch: 42/50, Step: 39500, D Loss: 1.301041603088379, G Loss: 0.7291322946548462\n",
            "Epoch: 42/50, Step: 40000, D Loss: 1.2984390258789062, G Loss: 0.878154993057251\n",
            "Epoch: 43/50, Step: 40500, D Loss: 1.1947907209396362, G Loss: 1.0838520526885986\n",
            "Epoch: 43/50, Step: 41000, D Loss: 1.2470686435699463, G Loss: 0.8532624840736389\n",
            "Epoch: 44/50, Step: 41500, D Loss: 1.2211236953735352, G Loss: 0.870841920375824\n",
            "Epoch: 44/50, Step: 42000, D Loss: 1.2696545124053955, G Loss: 0.7602238655090332\n",
            "Epoch: 45/50, Step: 42500, D Loss: 1.1961749792099, G Loss: 1.1119797229766846\n",
            "Epoch: 45/50, Step: 43000, D Loss: 1.3035234212875366, G Loss: 0.6851412653923035\n",
            "Epoch: 46/50, Step: 43500, D Loss: 1.2399189472198486, G Loss: 0.8389760255813599\n",
            "Epoch: 46/50, Step: 44000, D Loss: 1.2526133060455322, G Loss: 1.1125681400299072\n",
            "Epoch: 47/50, Step: 44500, D Loss: 1.2167259454727173, G Loss: 0.7863579988479614\n",
            "Epoch: 48/50, Step: 45000, D Loss: 1.2521147727966309, G Loss: 0.8985929489135742\n",
            "Epoch: 48/50, Step: 45500, D Loss: 1.215005874633789, G Loss: 0.893735408782959\n",
            "Epoch: 49/50, Step: 46000, D Loss: 1.2839480638504028, G Loss: 0.6252299547195435\n",
            "Epoch: 49/50, Step: 46500, D Loss: 1.2721177339553833, G Loss: 0.8708616495132446\n"
          ],
          "name": "stdout"
        }
      ]
    },
    {
      "cell_type": "code",
      "metadata": {
        "colab": {
          "base_uri": "https://localhost:8080/",
          "height": 286
        },
        "id": "zfVy3iVmVXHU",
        "outputId": "d5c8db8b-1437-4c80-b242-f7ec5b1521ab"
      },
      "source": [
        "# generation to image\n",
        "G.eval()\n",
        "imshow(get_sample_image(G, n_noise), cmap='gray')"
      ],
      "execution_count": null,
      "outputs": [
        {
          "output_type": "execute_result",
          "data": {
            "text/plain": [
              "<matplotlib.image.AxesImage at 0x7f8a9153c110>"
            ]
          },
          "metadata": {
            "tags": []
          },
          "execution_count": 20
        },
        {
          "output_type": "display_data",
          "data": {
            "image/png": "[encoded data removed]",
            "text/plain": [
              "<Figure size 432x288 with 1 Axes>"
            ]
          },
          "metadata": {
            "tags": [],
            "needs_background": "light"
          }
        }
      ]
    },
    {
      "cell_type": "code",
      "metadata": {
        "id": "ts8cLvVRVXJn"
      },
      "source": [
        "# Saving params.\n",
        "torch.save(D.state_dict(), 'D.pkl')\n",
        "torch.save(G.state_dict(), 'G.pkl')"
      ],
      "execution_count": null,
      "outputs": []
    },
    {
      "cell_type": "code",
      "metadata": {
        "id": "bpx_xlPwmZID"
      },
      "source": [
        "import matplotlib.pyplot as plt"
      ],
      "execution_count": null,
      "outputs": []
    },
    {
      "cell_type": "code",
      "metadata": {
        "id": "uxzr3FFVUx3x"
      },
      "source": [
        "t = range(0, max_epoch)"
      ],
      "execution_count": null,
      "outputs": []
    },
    {
      "cell_type": "code",
      "metadata": {
        "colab": {
          "base_uri": "https://localhost:8080/",
          "height": 282
        },
        "id": "ghDeHgKsqiaM",
        "outputId": "f9fafe05-1a1b-4c34-8598-011addcbcb6b"
      },
      "source": [
        "plt.plot(t, D_loss_arr)"
      ],
      "execution_count": null,
      "outputs": [
        {
          "output_type": "execute_result",
          "data": {
            "text/plain": [
              "[<matplotlib.lines.Line2D at 0x7f8a915c7950>]"
            ]
          },
          "metadata": {
            "tags": []
          },
          "execution_count": 24
        },
        {
          "output_type": "display_data",
          "data": {
            "image/png": "[encoded data removed]",
            "text/plain": [
              "<Figure size 432x288 with 1 Axes>"
            ]
          },
          "metadata": {
            "tags": [],
            "needs_background": "light"
          }
        }
      ]
    },
    {
      "cell_type": "code",
      "metadata": {
        "colab": {
          "base_uri": "https://localhost:8080/",
          "height": 282
        },
        "id": "XR0uTHK4qioT",
        "outputId": "f7bf6b41-c43c-4b29-c744-5c15a951f71a"
      },
      "source": [
        "plt.plot(t, G_loss_arr)"
      ],
      "execution_count": null,
      "outputs": [
        {
          "output_type": "execute_result",
          "data": {
            "text/plain": [
              "[<matplotlib.lines.Line2D at 0x7f8a9e02b510>]"
            ]
          },
          "metadata": {
            "tags": []
          },
          "execution_count": 25
        },
        {
          "output_type": "display_data",
          "data": {
            "image/png": "[encoded data removed]",
            "text/plain": [
              "<Figure size 432x288 with 1 Axes>"
            ]
          },
          "metadata": {
            "tags": [],
            "needs_background": "light"
          }
        }
      ]
    }
  ]
}